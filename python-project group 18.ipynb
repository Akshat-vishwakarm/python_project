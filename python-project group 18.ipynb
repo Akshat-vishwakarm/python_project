{
 "cells": [
  {
   "cell_type": "raw",
   "id": "128675c6-e1d1-48b2-945c-cbfe064629f8",
   "metadata": {},
   "source": []
  },
  {
   "cell_type": "raw",
   "id": "79f0749b-560b-4f6e-8ee1-2b8568ebed27",
   "metadata": {},
   "source": []
  },
  {
   "cell_type": "code",
   "execution_count": null,
   "id": "95e0e054-48df-40c1-a888-b3529aed8edb",
   "metadata": {},
   "outputs": [],
   "source": []
  },
  {
   "cell_type": "code",
   "execution_count": null,
   "id": "c40a5625-5fc4-4850-8bd8-a009426867c3",
   "metadata": {},
   "outputs": [],
   "source": []
  },
  {
   "cell_type": "code",
   "execution_count": null,
   "id": "2a4cc9fe-609d-4b99-a473-7f4134423397",
   "metadata": {},
   "outputs": [],
   "source": []
  },
  {
   "cell_type": "code",
   "execution_count": 1,
   "id": "bbb44135-2bd7-4788-86a6-e4d041953635",
   "metadata": {},
   "outputs": [
    {
     "name": "stdout",
     "output_type": "stream",
     "text": [
      "Requirement already satisfied: pyautogui in c:\\users\\akshat\\pictures\\anaconda3\\lib\\site-packages (0.9.54)\n",
      "Requirement already satisfied: pymsgbox in c:\\users\\akshat\\pictures\\anaconda3\\lib\\site-packages (from pyautogui) (1.0.9)\n",
      "Requirement already satisfied: pytweening>=1.0.4 in c:\\users\\akshat\\pictures\\anaconda3\\lib\\site-packages (from pyautogui) (1.2.0)\n",
      "Requirement already satisfied: pyscreeze>=0.1.21 in c:\\users\\akshat\\pictures\\anaconda3\\lib\\site-packages (from pyautogui) (1.0.1)\n",
      "Requirement already satisfied: pygetwindow>=0.0.5 in c:\\users\\akshat\\pictures\\anaconda3\\lib\\site-packages (from pyautogui) (0.0.9)\n",
      "Requirement already satisfied: mouseinfo in c:\\users\\akshat\\pictures\\anaconda3\\lib\\site-packages (from pyautogui) (0.1.3)\n",
      "Requirement already satisfied: pyrect in c:\\users\\akshat\\pictures\\anaconda3\\lib\\site-packages (from pygetwindow>=0.0.5->pyautogui) (0.2.0)\n",
      "Requirement already satisfied: pyperclip in c:\\users\\akshat\\pictures\\anaconda3\\lib\\site-packages (from mouseinfo->pyautogui) (1.9.0)\n",
      "Note: you may need to restart the kernel to use updated packages.\n"
     ]
    }
   ],
   "source": [
    "pip install pyautogui"
   ]
  },
  {
   "cell_type": "code",
   "execution_count": 2,
   "id": "3f025bf4-9857-4642-889c-d8d412ba63eb",
   "metadata": {},
   "outputs": [
    {
     "name": "stdout",
     "output_type": "stream",
     "text": [
      "Requirement already satisfied: pywinauto in c:\\users\\akshat\\pictures\\anaconda3\\lib\\site-packages (0.6.8)\n",
      "Requirement already satisfied: six in c:\\users\\akshat\\pictures\\anaconda3\\lib\\site-packages (from pywinauto) (1.16.0)\n",
      "Requirement already satisfied: comtypes in c:\\users\\akshat\\pictures\\anaconda3\\lib\\site-packages (from pywinauto) (1.4.8)\n",
      "Requirement already satisfied: pywin32 in c:\\users\\akshat\\pictures\\anaconda3\\lib\\site-packages (from pywinauto) (305.1)\n",
      "Note: you may need to restart the kernel to use updated packages.\n"
     ]
    }
   ],
   "source": [
    "pip install pywinauto"
   ]
  },
  {
   "cell_type": "code",
   "execution_count": 3,
   "id": "c5b2793b-8736-4215-a112-ae445c5249f4",
   "metadata": {},
   "outputs": [],
   "source": [
    "import pywinauto as hi"
   ]
  },
  {
   "cell_type": "code",
   "execution_count": null,
   "id": "d3816c90-97a4-418c-84f9-64ea1baa1486",
   "metadata": {},
   "outputs": [
    {
     "name": "stdout",
     "output_type": "stream",
     "text": [
      "Open the Chrome dinosaur game in your browser. Press 'q' to quit.\n"
     ]
    }
   ],
   "source": [
    "import cv2\n",
    "import mediapipe as mp\n",
    "import pyautogui\n",
    "import numpy as np\n",
    "import cv2\n",
    "import mediapipe as mp\n",
    "\n",
    "\n",
    "# Initialize MediaPipe Hands\n",
    "mp_hands = mp.solutions.hands\n",
    "hands = mp_hands.Hands(max_num_hands=1, min_detection_confidence=0.7)\n",
    "mp_draw = mp.solutions.drawing_utils\n",
    "\n",
    "# Function to determine if the palm is open\n",
    "def is_open_palm(hand_landmarks):\n",
    "    # Check the distance between the tips of fingers and the wrist\n",
    "    # You can adjust this logic based on your needs\n",
    "    finger_tips = [hand_landmarks.landmark[i] for i in [mp_hands.HandLandmark.INDEX_FINGER_TIP,\n",
    "                                                          mp_hands.HandLandmark.MIDDLE_FINGER_TIP,\n",
    "                                                          mp_hands.HandLandmark.RING_FINGER_TIP,\n",
    "                                                          mp_hands.HandLandmark.PINKY_TIP]]\n",
    "    wrist = hand_landmarks.landmark[mp_hands.HandLandmark.WRIST]\n",
    "    \n",
    "    # Check if the distance from the wrist to the finger tips is greater than a threshold\n",
    "    if all(tip.y < wrist.y for tip in finger_tips):\n",
    "        return True\n",
    "    return False\n",
    "\n",
    "# Function to determine if the palm is closed\n",
    "def is_closed_palm(hand_landmarks):\n",
    "    # You can implement logic to check if the fingers are close together\n",
    "    finger_tips = [hand_landmarks.landmark[i] for i in [mp_hands.HandLandmark.INDEX_FINGER_TIP,\n",
    "                                                          mp_hands.HandLandmark.MIDDLE_FINGER_TIP,\n",
    "                                                          mp_hands.HandLandmark.RING_FINGER_TIP,\n",
    "                                                          mp_hands.HandLandmark.PINKY_TIP]]\n",
    "    wrist = hand_landmarks.landmark[mp_hands.HandLandmark.WRIST]\n",
    "    \n",
    "    # Check if the distance between the tips is less than a threshold\n",
    "    if all(tip.y > wrist.y for tip in finger_tips):\n",
    "        return True\n",
    "    return False\n",
    "\n",
    "# Start the webcam feed\n",
    "cap = cv2.VideoCapture(0)\n",
    "\n",
    "# Inform user to open the Chrome dinosaur game\n",
    "print(\"Open the Chrome dinosaur game in your browser. Press 'q' to quit.\")\n",
    "\n",
    "while True:\n",
    "    ret, frame = cap.read()\n",
    "    if not ret:\n",
    "        break\n",
    "    frame = cv2.flip(frame, 1)\n",
    "    rgb_frame = cv2.cvtColor(frame, cv2.COLOR_BGR2RGB)\n",
    "    result = hands.process(rgb_frame)\n",
    "\n",
    "    if result.multi_hand_landmarks:\n",
    "        for hand_landmarks in result.multi_hand_landmarks:\n",
    "            mp_draw.draw_landmarks(frame, hand_landmarks, mp_hands.HAND_CONNECTIONS)\n",
    "\n",
    "            # Check for open palm (gesture for jump)\n",
    "            if is_open_palm(hand_landmarks):\n",
    "                pyautogui.press('space')  # Simulate space key press to jump\n",
    "\n",
    "            # Check for closed palm (gesture to start)\n",
    "            if is_closed_palm(hand_landmarks):\n",
    "                # You can implement logic to start the game if needed\n",
    "                pyautogui.press('enter') # Placeholder for starting the game\n",
    "\n",
    "    cv2.imshow('Dino Game Hand Control', frame)\n",
    "    if cv2.waitKey(1) & 0xFF == ord('q'):\n",
    "        break\n",
    "\n",
    "cap.release()\n",
    "cv2.destroyAllWindows()"
   ]
  },
  {
   "cell_type": "code",
   "execution_count": null,
   "id": "d2054a3f-7dfc-49ef-83fd-5e71f1a9b28f",
   "metadata": {},
   "outputs": [],
   "source": [
    "                                                                                                                                                     "
   ]
  }
 ],
 "metadata": {
  "kernelspec": {
   "display_name": "Python 3 (ipykernel)",
   "language": "python",
   "name": "python3"
  },
  "language_info": {
   "codemirror_mode": {
    "name": "ipython",
    "version": 3
   },
   "file_extension": ".py",
   "mimetype": "text/x-python",
   "name": "python",
   "nbconvert_exporter": "python",
   "pygments_lexer": "ipython3",
   "version": "3.12.7"
  }
 },
 "nbformat": 4,
 "nbformat_minor": 5
}
